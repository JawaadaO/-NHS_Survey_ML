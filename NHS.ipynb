{
 "cells": [
  {
   "cell_type": "markdown",
   "id": "eeda3afa-2e4d-40ba-866f-de78e4ce8b0a",
   "metadata": {},
   "source": [
    "<h1>An Exploratory Analysis of the Factors Influencing Youth Smoking Risk and Predictive Modeling Using NHS Survey Data</h1>"
   ]
  },
  {
   "cell_type": "markdown",
   "id": "53fe321e-d9cc-4ff5-8829-4054444a567e",
   "metadata": {},
   "source": [
    "# Table of Contents\n",
    "\n",
    "### **1. Introduction**\n",
    "* [1.1 Project Background](#1.1-Project-Background)\n",
    "* [1.2 Problem Definition](#1.2-Problem-Definition)\n",
    "* [1.3 Objectives](#1.3-Objectives)\n",
    "* [1.4 Significance of the Study](#1.4-Significance-of-the-Study)\n",
    "\n",
    "---\n",
    "\n",
    "### **2. Data Overview and Preparation**\n",
    "* [2.1 Data Loading](#2.1-Data-Loading)\n",
    "* [2.2 Data Dictionary](#2.2-Data-Dictionary)\n",
    "* [2.3 Data Inspection and Summary Statistics](#2.3-Data-Inspection-and-Summary-Statistics)\n",
    "* [2.4 Handling Missing Values](#2.4-Handling-Missing-Values)\n",
    "    * [2.4.1 Imputation Strategies](#2.4.1-Imputation-Strategies)\n",
    "\n",
    "---\n",
    "\n",
    "### **3. Exploratory Data Analysis (EDA)**\n",
    "* [3.1 Univariate Analysis](#3.1-Univariate-Analysis)\n",
    "* [3.2 Bivariate Analysis](#3.2-Bivariate-Analysis)\n",
    "    * [3.2.1 Youth Perceptions of Peer Smoking Reasons with Age](#3.2.1-Youth-Perceptions-of-Peer-Smoking-Reasons-with-Age)\n",
    "    * [3.2.2 Proportion of Youth Who Have Smoked by Exposure to Secondhand Smoke](#3.2.2-Proportion-of-Youth-Who-Have-Smoked-by-Exposure-to-Secondhand-Smoke)\n",
    "    * [3.2.3 Peer Influences](#3.2.3-Peer-Influences)\n",
    "    * [3.2.4 Education Efforts](#3.2.4-Education-Efforts)\n",
    "\n",
    "---\n",
    "\n",
    "### **4. Feature Engineering**\n",
    "* [4.1 Composite Features](#4.1-Composite-Features)\n",
    "* [4.2 Binary Flags](#4.2-Binary-Flags)\n",
    "* [4.3 Interaction Feature](#4.3-Interaction-Feature)\n",
    "* [4.4 Encode Categorical Variables](#4.4-Encode-Categorical-Variables)\n",
    "* [4.5 Final Dataset Summary](#4.5-Final-Dataset-Summary)\n",
    "\n",
    "---\n",
    "\n",
    "### **5. Predictive Modeling**\n",
    "* [5.1 Model Selection](#5.1-Model-Selection)\n",
    "* [5.2 Model Training and Evaluation](#5.2-Model-Training-and-Evaluation)\n",
    "* [5.3 Model Comparison](#5.3-Model-Comparison)\n",
    "---\n",
    "\n",
    "### **6. Findings and Limitations**\n",
    "* [6.1 Key Findings](#6.1-Key-Findings)\n",
    "* [6.2 Challenges and Limitations](#6.2-Challenges-and-Limitations)"
   ]
  },
  {
   "cell_type": "markdown",
   "id": "a67c5600-1721-44f7-ae00-c46a2094e657",
   "metadata": {},
   "source": [
    "## **1. Introduction**"
   ]
  },
  {
   "cell_type": "markdown",
   "id": "09e4fc1c-1ec1-4883-b40f-4d4f71adc96e",
   "metadata": {},
   "source": [
    "#### **1.1 Project Background**\n",
    "\n",
    "Smoking among young students in the UK remains a significant public health issue, particularly for those aged 11 to 15 in secondary schools (NDRS, n.d.). Recent changes in survey methods, transitioning from paper to online formats, have improved data collection and allowed the inclusion of social and emotional well-being factors, such as loneliness and exclusion. This provides a deeper understanding of the factors influencing smoking behaviors among youth."
   ]
  },
  {
   "cell_type": "markdown",
   "id": "f3081e47-566e-40f7-9736-2f2760e3dd09",
   "metadata": {},
   "source": [
    "#### **1.2 Problem Definition**\n",
    "\n",
    "Despite declining smoking rates, the habit continues to affect secondary school students, posing long-term health risks and challenges for public health efforts. Current interventions often lack insights into the social and emotional dimensions that influence smoking behaviors. This study seeks to fill this gap by analyzing a comprehensive dataset to identify key predictors and inform more targeted prevention strategies.\n",
    "\n"
   ]
  },
  {
   "cell_type": "markdown",
   "id": "629dbc98-affe-43ac-b0f7-248ba6d8eab8",
   "metadata": {},
   "source": [
    "#### **1.3 Objectives**\n",
    "\n",
    "This study aims to examine smoking behaviors among secondary school students in England using survey data collected from 2021. The analysis focuses on identifying key trends, behaviors, and influencing factors, with the ultimate goal of providing recommendations to reduce smoking rates in this demographic."
   ]
  },
  {
   "cell_type": "markdown",
   "id": "1676aca8-fb75-49a0-b279-9e26c7ac9b4f",
   "metadata": {},
   "source": [
    "#### **1.4 Significance of the Study**\n",
    "This research offers actionable insights into the behavioral and social factors associated with youth smoking, enabling more effective public health campaigns and school-based interventions. By addressing these dimensions, the study contributes to broader efforts to support the well-being of young individuals and promote smoke-free lifestyles."
   ]
  },
  {
   "cell_type": "markdown",
   "id": "45476a1e-2487-4a84-ae15-5545eb6d372f",
   "metadata": {},
   "source": [
    "## **2. Data Overview and Preparation**\n",
    "In this section, we will load the dataset, examine its structure, and define the key variables used in our analysis.\n"
   ]
  },
  {
   "cell_type": "markdown",
   "id": "55937f3b-cfa8-4852-a355-8be409c73cb6",
   "metadata": {},
   "source": [
    "#### **2.1 Data Loading**\n",
    "We begin by importing the necessary libraries and loading the dataset containing information about smoking behaviors, drug use, and alcohol consumption among youth. The dataset has been obtained from the NHS and is based on a survey conducted in 2021, targeting secondary school students in the UK."
   ]
  },
  {
   "cell_type": "code",
   "execution_count": 3,
   "id": "c2ea32a2-13b0-4ef5-8f4d-79d53b94d056",
   "metadata": {},
   "outputs": [],
   "source": [
    "# Importing core libraries for data manipulation, visualization, and machine learning\n",
    "import numpy as np  # For numerical operations\n",
    "import pandas as pd  # For handling dataframes\n",
    "import matplotlib.pyplot as plt  # For plotting\n",
    "import seaborn as sns  # For advanced visualization\n",
    "\n",
    "# For missing data handling and imputation\n",
    "from sklearn.experimental import enable_iterative_imputer  # To use iterative imputer\n",
    "from sklearn.impute import KNNImputer, IterativeImputer, SimpleImputer  # For missing data handling\n",
    "from sklearn.linear_model import LinearRegression  # To support imputation with regression\n",
    "\n",
    "# For data preprocessing and splitting\n",
    "from sklearn.preprocessing import StandardScaler  # For feature scaling\n",
    "from sklearn.model_selection import train_test_split  # For splitting data\n",
    "\n",
    "# Machine learning models\n",
    "#from sklearn.ensemble import RandomForestClassifier\n",
    "#from xgboost import XGBClassifier\n",
    "#from lightgbm import LGBMClassifier\n",
    "\n",
    "# For evaluation metrics and performance analysis\n",
    "from sklearn.metrics import (\n",
    "    accuracy_score, precision_score, recall_score, f1_score, roc_auc_score,\n",
    "    precision_recall_curve, confusion_matrix\n",
    ")\n"
   ]
  },
  {
   "cell_type": "code",
   "execution_count": 4,
   "id": "044ebe01-acfa-4026-8f4b-d441401dfb06",
   "metadata": {},
   "outputs": [],
   "source": [
    "# Load the dataset into a dataframe\n",
    "df = pd.read_csv(\"./data/survey_data.csv\")"
   ]
  },
  {
   "cell_type": "markdown",
   "id": "05e1f3b2-5ae0-4a32-abd7-1d0a07ebce26",
   "metadata": {},
   "source": [
    "#### **2.2 Data Dictionary**\n",
    "To streamline the analysis, we define the key columns related to smoking behaviors and other factors of interest. These columns are extracted into a separate dataframe for targeted analysis.\n"
   ]
  },
  {
   "cell_type": "code",
   "execution_count": 5,
   "id": "812376c6-72f5-43a8-8206-8c8aa16d0955",
   "metadata": {},
   "outputs": [
    {
     "data": {
      "text/html": [
       "<style type=\"text/css\">\n",
       "#T_1cd0f th {\n",
       "  text-align: left;\n",
       "}\n",
       "#T_1cd0f_row0_col0, #T_1cd0f_row0_col1, #T_1cd0f_row0_col2, #T_1cd0f_row0_col3, #T_1cd0f_row1_col0, #T_1cd0f_row1_col1, #T_1cd0f_row1_col2, #T_1cd0f_row1_col3, #T_1cd0f_row2_col0, #T_1cd0f_row2_col1, #T_1cd0f_row2_col2, #T_1cd0f_row2_col3, #T_1cd0f_row3_col0, #T_1cd0f_row3_col1, #T_1cd0f_row3_col2, #T_1cd0f_row3_col3, #T_1cd0f_row4_col0, #T_1cd0f_row4_col1, #T_1cd0f_row4_col2, #T_1cd0f_row4_col3, #T_1cd0f_row5_col0, #T_1cd0f_row5_col1, #T_1cd0f_row5_col2, #T_1cd0f_row5_col3, #T_1cd0f_row6_col0, #T_1cd0f_row6_col1, #T_1cd0f_row6_col2, #T_1cd0f_row6_col3, #T_1cd0f_row7_col0, #T_1cd0f_row7_col1, #T_1cd0f_row7_col2, #T_1cd0f_row7_col3, #T_1cd0f_row8_col0, #T_1cd0f_row8_col1, #T_1cd0f_row8_col2, #T_1cd0f_row8_col3, #T_1cd0f_row9_col0, #T_1cd0f_row9_col1, #T_1cd0f_row9_col2, #T_1cd0f_row9_col3, #T_1cd0f_row10_col0, #T_1cd0f_row10_col1, #T_1cd0f_row10_col2, #T_1cd0f_row10_col3, #T_1cd0f_row11_col0, #T_1cd0f_row11_col1, #T_1cd0f_row11_col2, #T_1cd0f_row11_col3, #T_1cd0f_row12_col0, #T_1cd0f_row12_col1, #T_1cd0f_row12_col2, #T_1cd0f_row12_col3, #T_1cd0f_row13_col0, #T_1cd0f_row13_col1, #T_1cd0f_row13_col2, #T_1cd0f_row13_col3, #T_1cd0f_row14_col0, #T_1cd0f_row14_col1, #T_1cd0f_row14_col2, #T_1cd0f_row14_col3, #T_1cd0f_row15_col0, #T_1cd0f_row15_col1, #T_1cd0f_row15_col2, #T_1cd0f_row15_col3, #T_1cd0f_row16_col0, #T_1cd0f_row16_col1, #T_1cd0f_row16_col2, #T_1cd0f_row16_col3, #T_1cd0f_row17_col0, #T_1cd0f_row17_col1, #T_1cd0f_row17_col2, #T_1cd0f_row17_col3, #T_1cd0f_row18_col0, #T_1cd0f_row18_col1, #T_1cd0f_row18_col2, #T_1cd0f_row18_col3, #T_1cd0f_row19_col0, #T_1cd0f_row19_col1, #T_1cd0f_row19_col2, #T_1cd0f_row19_col3, #T_1cd0f_row20_col0, #T_1cd0f_row20_col1, #T_1cd0f_row20_col2, #T_1cd0f_row20_col3 {\n",
       "  text-align: left;\n",
       "}\n",
       "</style>\n",
       "<table id=\"T_1cd0f\">\n",
       "  <thead>\n",
       "    <tr>\n",
       "      <th class=\"blank level0\" >&nbsp;</th>\n",
       "      <th id=\"T_1cd0f_level0_col0\" class=\"col_heading level0 col0\" >Subsection</th>\n",
       "      <th id=\"T_1cd0f_level0_col1\" class=\"col_heading level0 col1\" >Variable Name</th>\n",
       "      <th id=\"T_1cd0f_level0_col2\" class=\"col_heading level0 col2\" >Description</th>\n",
       "      <th id=\"T_1cd0f_level0_col3\" class=\"col_heading level0 col3\" >Data Type</th>\n",
       "    </tr>\n",
       "  </thead>\n",
       "  <tbody>\n",
       "    <tr>\n",
       "      <th id=\"T_1cd0f_level0_row0\" class=\"row_heading level0 row0\" >0</th>\n",
       "      <td id=\"T_1cd0f_row0_col0\" class=\"data row0 col0\" >Demographics</td>\n",
       "      <td id=\"T_1cd0f_row0_col1\" class=\"data row0 col1\" >sex</td>\n",
       "      <td id=\"T_1cd0f_row0_col2\" class=\"data row0 col2\" >Sex of the respondent</td>\n",
       "      <td id=\"T_1cd0f_row0_col3\" class=\"data row0 col3\" >float64</td>\n",
       "    </tr>\n",
       "    <tr>\n",
       "      <th id=\"T_1cd0f_level0_row1\" class=\"row_heading level0 row1\" >1</th>\n",
       "      <td id=\"T_1cd0f_row1_col0\" class=\"data row1 col0\" ></td>\n",
       "      <td id=\"T_1cd0f_row1_col1\" class=\"data row1 col1\" >age1115</td>\n",
       "      <td id=\"T_1cd0f_row1_col2\" class=\"data row1 col2\" >Age group (11-15)</td>\n",
       "      <td id=\"T_1cd0f_row1_col3\" class=\"data row1 col3\" >float64</td>\n",
       "    </tr>\n",
       "    <tr>\n",
       "      <th id=\"T_1cd0f_level0_row2\" class=\"row_heading level0 row2\" >2</th>\n",
       "      <td id=\"T_1cd0f_row2_col0\" class=\"data row2 col0\" ></td>\n",
       "      <td id=\"T_1cd0f_row2_col1\" class=\"data row2 col1\" >ethnicgp5</td>\n",
       "      <td id=\"T_1cd0f_row2_col2\" class=\"data row2 col2\" >Ethnicity categorized into 5 groups</td>\n",
       "      <td id=\"T_1cd0f_row2_col3\" class=\"data row2 col3\" >float64</td>\n",
       "    </tr>\n",
       "    <tr>\n",
       "      <th id=\"T_1cd0f_level0_row3\" class=\"row_heading level0 row3\" >3</th>\n",
       "      <td id=\"T_1cd0f_row3_col0\" class=\"data row3 col0\" >Family attitude</td>\n",
       "      <td id=\"T_1cd0f_row3_col1\" class=\"data row3 col1\" >cgpppar</td>\n",
       "      <td id=\"T_1cd0f_row3_col2\" class=\"data row3 col2\" >Whether parents/guardians of the respondent smoke</td>\n",
       "      <td id=\"T_1cd0f_row3_col3\" class=\"data row3 col3\" >float64</td>\n",
       "    </tr>\n",
       "    <tr>\n",
       "      <th id=\"T_1cd0f_level0_row4\" class=\"row_heading level0 row4\" >4</th>\n",
       "      <td id=\"T_1cd0f_row4_col0\" class=\"data row4 col0\" ></td>\n",
       "      <td id=\"T_1cd0f_row4_col1\" class=\"data row4 col1\" >cgppfrsa</td>\n",
       "      <td id=\"T_1cd0f_row4_col2\" class=\"data row4 col2\" >Whether friends of the respondent smoke</td>\n",
       "      <td id=\"T_1cd0f_row4_col3\" class=\"data row4 col3\" >float64</td>\n",
       "    </tr>\n",
       "    <tr>\n",
       "      <th id=\"T_1cd0f_level0_row5\" class=\"row_heading level0 row5\" >5</th>\n",
       "      <td id=\"T_1cd0f_row5_col0\" class=\"data row5 col0\" ></td>\n",
       "      <td id=\"T_1cd0f_row5_col1\" class=\"data row5 col1\" >cgfamn</td>\n",
       "      <td id=\"T_1cd0f_row5_col2\" class=\"data row5 col2\" >Family attitudes towards smoking (non-smokers)</td>\n",
       "      <td id=\"T_1cd0f_row5_col3\" class=\"data row5 col3\" >float64</td>\n",
       "    </tr>\n",
       "    <tr>\n",
       "      <th id=\"T_1cd0f_level0_row6\" class=\"row_heading level0 row6\" >6</th>\n",
       "      <td id=\"T_1cd0f_row6_col0\" class=\"data row6 col0\" ></td>\n",
       "      <td id=\"T_1cd0f_row6_col1\" class=\"data row6 col1\" >cgfams</td>\n",
       "      <td id=\"T_1cd0f_row6_col2\" class=\"data row6 col2\" >Family attitudes towards smoking (smokers)</td>\n",
       "      <td id=\"T_1cd0f_row6_col3\" class=\"data row6 col3\" >float64</td>\n",
       "    </tr>\n",
       "    <tr>\n",
       "      <th id=\"T_1cd0f_level0_row7\" class=\"row_heading level0 row7\" >7</th>\n",
       "      <td id=\"T_1cd0f_row7_col0\" class=\"data row7 col0\" >Personal attitudes</td>\n",
       "      <td id=\"T_1cd0f_row7_col1\" class=\"data row7 col1\" >dcgevr</td>\n",
       "      <td id=\"T_1cd0f_row7_col2\" class=\"data row7 col2\" >Has ever smoked</td>\n",
       "      <td id=\"T_1cd0f_row7_col3\" class=\"data row7 col3\" >float64</td>\n",
       "    </tr>\n",
       "    <tr>\n",
       "      <th id=\"T_1cd0f_level0_row8\" class=\"row_heading level0 row8\" >8</th>\n",
       "      <td id=\"T_1cd0f_row8_col0\" class=\"data row8 col0\" ></td>\n",
       "      <td id=\"T_1cd0f_row8_col1\" class=\"data row8 col1\" >cgwhypre</td>\n",
       "      <td id=\"T_1cd0f_row8_col2\" class=\"data row8 col2\" >Belief that peers smoke due to peer pressure</td>\n",
       "      <td id=\"T_1cd0f_row8_col3\" class=\"data row8 col3\" >float64</td>\n",
       "    </tr>\n",
       "    <tr>\n",
       "      <th id=\"T_1cd0f_level0_row9\" class=\"row_heading level0 row9\" >9</th>\n",
       "      <td id=\"T_1cd0f_row9_col0\" class=\"data row9 col0\" ></td>\n",
       "      <td id=\"T_1cd0f_row9_col1\" class=\"data row9 col1\" >cgwhyadd</td>\n",
       "      <td id=\"T_1cd0f_row9_col2\" class=\"data row9 col2\" >Belief that peers smoke because of addiction</td>\n",
       "      <td id=\"T_1cd0f_row9_col3\" class=\"data row9 col3\" >float64</td>\n",
       "    </tr>\n",
       "    <tr>\n",
       "      <th id=\"T_1cd0f_level0_row10\" class=\"row_heading level0 row10\" >10</th>\n",
       "      <td id=\"T_1cd0f_row10_col0\" class=\"data row10 col0\" ></td>\n",
       "      <td id=\"T_1cd0f_row10_col1\" class=\"data row10 col1\" >cgwhyrel</td>\n",
       "      <td id=\"T_1cd0f_row10_col2\" class=\"data row10 col2\" >Belief that peers smoke to relax</td>\n",
       "      <td id=\"T_1cd0f_row10_col3\" class=\"data row10 col3\" >float64</td>\n",
       "    </tr>\n",
       "    <tr>\n",
       "      <th id=\"T_1cd0f_level0_row11\" class=\"row_heading level0 row11\" >11</th>\n",
       "      <td id=\"T_1cd0f_row11_col0\" class=\"data row11 col0\" ></td>\n",
       "      <td id=\"T_1cd0f_row11_col1\" class=\"data row11 col1\" >cgwhystr</td>\n",
       "      <td id=\"T_1cd0f_row11_col2\" class=\"data row11 col2\" >Belief that peers smoke to cope with stress</td>\n",
       "      <td id=\"T_1cd0f_row11_col3\" class=\"data row11 col3\" >float64</td>\n",
       "    </tr>\n",
       "    <tr>\n",
       "      <th id=\"T_1cd0f_level0_row12\" class=\"row_heading level0 row12\" >12</th>\n",
       "      <td id=\"T_1cd0f_row12_col0\" class=\"data row12 col0\" ></td>\n",
       "      <td id=\"T_1cd0f_row12_col1\" class=\"data row12 col1\" >cgwhygdf</td>\n",
       "      <td id=\"T_1cd0f_row12_col2\" class=\"data row12 col2\" >Belief that peers smoke because it gives them a good feeling</td>\n",
       "      <td id=\"T_1cd0f_row12_col3\" class=\"data row12 col3\" >float64</td>\n",
       "    </tr>\n",
       "    <tr>\n",
       "      <th id=\"T_1cd0f_level0_row13\" class=\"row_heading level0 row13\" >13</th>\n",
       "      <td id=\"T_1cd0f_row13_col0\" class=\"data row13 col0\" ></td>\n",
       "      <td id=\"T_1cd0f_row13_col1\" class=\"data row13 col1\" >cgwhycoo</td>\n",
       "      <td id=\"T_1cd0f_row13_col2\" class=\"data row13 col2\" >Belief that peers smoke to look cool</td>\n",
       "      <td id=\"T_1cd0f_row13_col3\" class=\"data row13 col3\" >float64</td>\n",
       "    </tr>\n",
       "    <tr>\n",
       "      <th id=\"T_1cd0f_level0_row14\" class=\"row_heading level0 row14\" >14</th>\n",
       "      <td id=\"T_1cd0f_row14_col0\" class=\"data row14 col0\" ></td>\n",
       "      <td id=\"T_1cd0f_row14_col1\" class=\"data row14 col1\" >okcg1</td>\n",
       "      <td id=\"T_1cd0f_row14_col2\" class=\"data row14 col2\" >Whether respondent thinks it is okay to try smoking to see what it is like</td>\n",
       "      <td id=\"T_1cd0f_row14_col3\" class=\"data row14 col3\" >float64</td>\n",
       "    </tr>\n",
       "    <tr>\n",
       "      <th id=\"T_1cd0f_level0_row15\" class=\"row_heading level0 row15\" >15</th>\n",
       "      <td id=\"T_1cd0f_row15_col0\" class=\"data row15 col0\" ></td>\n",
       "      <td id=\"T_1cd0f_row15_col1\" class=\"data row15 col1\" >okcgw</td>\n",
       "      <td id=\"T_1cd0f_row15_col2\" class=\"data row15 col2\" >Whether respondent thinks it is okay to smoke once a week</td>\n",
       "      <td id=\"T_1cd0f_row15_col3\" class=\"data row15 col3\" >float64</td>\n",
       "    </tr>\n",
       "    <tr>\n",
       "      <th id=\"T_1cd0f_level0_row16\" class=\"row_heading level0 row16\" >16</th>\n",
       "      <td id=\"T_1cd0f_row16_col0\" class=\"data row16 col0\" >Exposure</td>\n",
       "      <td id=\"T_1cd0f_row16_col1\" class=\"data row16 col1\" >cgshin</td>\n",
       "      <td id=\"T_1cd0f_row16_col2\" class=\"data row16 col2\" >Exposure to secondhand smoke in homes</td>\n",
       "      <td id=\"T_1cd0f_row16_col3\" class=\"data row16 col3\" >float64</td>\n",
       "    </tr>\n",
       "    <tr>\n",
       "      <th id=\"T_1cd0f_level0_row17\" class=\"row_heading level0 row17\" >17</th>\n",
       "      <td id=\"T_1cd0f_row17_col0\" class=\"data row17 col0\" ></td>\n",
       "      <td id=\"T_1cd0f_row17_col1\" class=\"data row17 col1\" >cgshcar</td>\n",
       "      <td id=\"T_1cd0f_row17_col2\" class=\"data row17 col2\" >Exposure to secondhand smoke in cars</td>\n",
       "      <td id=\"T_1cd0f_row17_col3\" class=\"data row17 col3\" >float64</td>\n",
       "    </tr>\n",
       "    <tr>\n",
       "      <th id=\"T_1cd0f_level0_row18\" class=\"row_heading level0 row18\" >18</th>\n",
       "      <td id=\"T_1cd0f_row18_col0\" class=\"data row18 col0\" ></td>\n",
       "      <td id=\"T_1cd0f_row18_col1\" class=\"data row18 col1\" >cgwhohme</td>\n",
       "      <td id=\"T_1cd0f_row18_col2\" class=\"data row18 col2\" >Whether people smoke inside the home of the respondent</td>\n",
       "      <td id=\"T_1cd0f_row18_col3\" class=\"data row18 col3\" >float64</td>\n",
       "    </tr>\n",
       "    <tr>\n",
       "      <th id=\"T_1cd0f_level0_row19\" class=\"row_heading level0 row19\" >19</th>\n",
       "      <td id=\"T_1cd0f_row19_col0\" class=\"data row19 col0\" >Education</td>\n",
       "      <td id=\"T_1cd0f_row19_col1\" class=\"data row19 col1\" >einfsmk</td>\n",
       "      <td id=\"T_1cd0f_row19_col2\" class=\"data row19 col2\" >Whether school provided enough information on smoking</td>\n",
       "      <td id=\"T_1cd0f_row19_col3\" class=\"data row19 col3\" >float64</td>\n",
       "    </tr>\n",
       "    <tr>\n",
       "      <th id=\"T_1cd0f_level0_row20\" class=\"row_heading level0 row20\" >20</th>\n",
       "      <td id=\"T_1cd0f_row20_col0\" class=\"data row20 col0\" ></td>\n",
       "      <td id=\"T_1cd0f_row20_col1\" class=\"data row20 col1\" >dlssmk</td>\n",
       "      <td id=\"T_1cd0f_row20_col2\" class=\"data row20 col2\" >Whether respondent had lessons on smoking in the last 12 months</td>\n",
       "      <td id=\"T_1cd0f_row20_col3\" class=\"data row20 col3\" >int64</td>\n",
       "    </tr>\n",
       "  </tbody>\n",
       "</table>\n"
      ],
      "text/plain": [
       "<pandas.io.formats.style.Styler at 0x7f5bd4f66270>"
      ]
     },
     "metadata": {},
     "output_type": "display_data"
    }
   ],
   "source": [
    "# Import a helper function to display the data dictionary\n",
    "from helpers import show_dictionary  \n",
    "\n",
    "# Define the relevant columns for analysis related to smoking behaviors\n",
    "smoking_cols = ['sex', 'age1115', 'ethnicgp5','cgpppar', 'cgppfrsa', 'cgfamn', 'cgfams',\n",
    "                'cgwhypre', 'cgwhyadd', 'cgwhyrel', 'cgwhystr', 'cgwhygdf', 'cgwhycoo', 'okcg1', \n",
    "                'okcgw', 'cgshin', 'cgshcar', 'cgwhohme', 'einfsmk', 'dlssmk','dcgevr']\n",
    "\n",
    "# Create a subset of the dataframe with only the smoking-related variables\n",
    "df_smoking = df[smoking_cols].copy()\n",
    "\n",
    "\n",
    "# Display the data dictionary for the selected columns\n",
    "show_dictionary(df_smoking)"
   ]
  },
  {
   "cell_type": "markdown",
   "id": "1aefb146-2731-4689-94b6-86fdf6186ea4",
   "metadata": {},
   "source": [
    "#### **2.3 Data Inspection and Summary Statistics**\n",
    "Before performing any analysis, it's crucial to inspect the dataset for its shape, structure, and summary statistics. This step helps in understanding the data distribution, identifying potential issues such as missing values, and planning for any necessary preprocessing.\n"
   ]
  },
  {
   "cell_type": "code",
   "execution_count": null,
   "id": "e0c27f48-5edd-4439-9b51-23a7bfc8c7a3",
   "metadata": {},
   "outputs": [],
   "source": [
    "# Print the shape and datatype of the dataset to understand its dimensions and type consistency\n",
    "print('The dataset has {0} rows and {1} columns of the datatype {2}'.format(\n",
    "    df_smoking.shape[0], df_smoking.shape[1], df_smoking.dtypes.value_counts().index[0]))"
   ]
  },
  {
   "cell_type": "code",
   "execution_count": null,
   "id": "b65f0133-6f7e-4008-ae55-08457d032248",
   "metadata": {},
   "outputs": [],
   "source": [
    "# Display the first five rows to get an overview of the dataset's structure and sample values\n",
    "df_smoking.head()"
   ]
  },
  {
   "cell_type": "code",
   "execution_count": null,
   "id": "a82efe81-3cd9-4060-8c2b-40495ec2e957",
   "metadata": {
    "scrolled": true
   },
   "outputs": [],
   "source": [
    "# Using the `.describe()` method, we obtain key summary statistics for each column\n",
    "df_smoking.describe()"
   ]
  },
  {
   "cell_type": "markdown",
   "id": "ce79b583-3593-444e-a6c2-361a780cb48a",
   "metadata": {},
   "source": [
    "#### **2.4 Handling Missing Values**\n",
    "In this dataset, missing values are encoded as `-1.0` and `-9.0` to represent \"Not Applicable\" or \"Not Answered\" responses and `-8.0`, and `6.0` to \"Don't know\". To standardize the handling of missing data, these values are replaced with `NaN`. This step allows for consistent processing in subsequent analyses."
   ]
  },
  {
   "cell_type": "code",
   "execution_count": null,
   "id": "3427ad9c-b28f-4836-bdbf-2f07c83d1d30",
   "metadata": {},
   "outputs": [],
   "source": [
    "# Replace encoded missing values (-1, -8, 6, -9) with NaN for consistent handling\n",
    "df_smoking.replace([-1.0, -9.0, -8.0,6.0], np.nan, inplace=True)"
   ]
  },
  {
   "cell_type": "markdown",
   "id": "c8bd0fb4-69e6-4f06-90bd-cd2db13c2f3d",
   "metadata": {},
   "source": [
    "##### **Missing Value Summary**\n",
    "The proportion of missing values in each column is calculated to identify the extent of missingness. Columns with high missing values might require special attention, such as imputation or exclusion from the analysis."
   ]
  },
  {
   "cell_type": "code",
   "execution_count": null,
   "id": "58da2d28-b9b2-467e-b7a2-d81b8db46335",
   "metadata": {},
   "outputs": [],
   "source": [
    "# Calculate the percentage of missing values for each column\n",
    "missing_values = df_smoking.isna().sum() / len(df_smoking) * 100\n",
    "print('-' * 42)\n",
    "print(\"Columns with the highest percentage of missing values:\")\n",
    "print(missing_values[missing_values > 50].sort_values(ascending=False))\n",
    "print('-' * 42)"
   ]
  },
  {
   "cell_type": "markdown",
   "id": "4952574f-9ca3-4995-9d2d-085165777412",
   "metadata": {},
   "source": [
    "##### **Visualizing Missing Data**\n",
    "A heatmap is used to visualize the distribution of missing values across the dataset. Yellow regions indicate missing values, helping us identify patterns or clusters of missing data.\n"
   ]
  },
  {
   "cell_type": "code",
   "execution_count": null,
   "id": "c398a196-046e-42bc-86d0-c611b4ee6118",
   "metadata": {},
   "outputs": [],
   "source": [
    "# Visualize missing values\n",
    "sns.heatmap(df_smoking.isna(), cbar=False, cmap='viridis');"
   ]
  },
  {
   "cell_type": "code",
   "execution_count": null,
   "id": "ab2c0c86-c733-4c6f-bd63-cf80b47db70c",
   "metadata": {},
   "outputs": [],
   "source": [
    "# Calculate and visualize the correlation matrix to understand relationships between variables\n",
    "correlation_matrix = df_smoking.corr()\n",
    "# Visualize the correlation matrix using a heatmap\n",
    "plt.figure(figsize=(12,8))\n",
    "sns.heatmap(\n",
    "    correlation_matrix,  # Correlation matrix data\n",
    "    annot=True,          # Display correlation values\n",
    "    cmap=\"coolwarm\",     # Color scheme for better differentiation\n",
    "    fmt='.2f',           # Format values to two decimal places\n",
    "    vmin=-1, vmax=1      # Set min/max values for color scale\n",
    ")\n",
    "plt.title('Correlation matrix')\n",
    "plt.show();\n"
   ]
  },
  {
   "cell_type": "markdown",
   "id": "ca80e185-d75e-4d2e-b906-8a42065fb109",
   "metadata": {},
   "source": [
    "The correlation matrix visualizes relationships between numerical variables (Bock, 2018). High correlations (near 1 or -1) indicate strong relationships, guiding feature selection and engineering. Values near 0 suggest weak or no relationship. This helps identify key variables before imputing missing values."
   ]
  },
  {
   "cell_type": "markdown",
   "id": "973658b6-3974-4523-ac98-97fed40d6c00",
   "metadata": {},
   "source": [
    "#### **2.4.1 Imputation Strategies**\n",
    "Each method was chosen based on the nature of the variables:\n",
    "\n",
    "**Mode** the imputation for binary and categorical variables to retain class distributions.\\\n",
    "**Group-based** imputation to account for relationships between demographic variables.\\\n",
    "**KNN, regression, and iterative** imputation for more complex relationships, ensuring dependencies between features are respected."
   ]
  },
  {
   "cell_type": "code",
   "execution_count": null,
   "id": "9cae74e2-db80-416e-8442-fea9c9b30587",
   "metadata": {},
   "outputs": [],
   "source": [
    "# Mode Imputation for Binary/Categorical Variables\n",
    "# Using the mode (most frequent value) as it is representative for such variables\n",
    "binary_columns = ['einfsmk', 'dlssmk', 'dcgevr', 'sex']\n",
    "for column in binary_columns:\n",
    "    mode_value = df_smoking[column].mode()[0]  # Get the most frequent value\n",
    "    df_smoking[column].fillna(mode_value, inplace=True)\n",
    "\n",
    "# Group-Based Median Imputation for 'age1115'\n",
    "# Impute missing 'age1115' values using the median within groups defined by 'sex'\n",
    "df_smoking['age1115'] = df_smoking.groupby('sex', group_keys=False)['age1115'].apply(\n",
    "    lambda group: group.fillna(group.median())\n",
    ")\n",
    "\n",
    "# Mode Imputation for 'ethnicgp5'\n",
    "# Impute missing 'ethnicgp5' values by mode within groups defined by 'sex' and 'age1115'\n",
    "df_smoking['ethnicgp5'] = df_smoking.groupby(['sex', 'age1115'])['ethnicgp5'].transform(\n",
    "    lambda group: group.fillna(group.mode().iloc[0]) if not group.mode().empty else group\n",
    ")\n",
    "\n",
    "# KNN Imputation for Family Attitude Variables\n",
    "family_columns = ['cgpppar', 'cgppfrsa', 'cgfamn', 'cgfams']\n",
    "knn_imputer = KNNImputer(n_neighbors=5)\n",
    "df_smoking[family_columns] = knn_imputer.fit_transform(df_smoking[family_columns])\n",
    "\n",
    "# Regression-Based Imputation for Personal Attitude Variables\n",
    "# Use linear regression to predict missing values for personal attitude variables\n",
    "# Missing values are predicted based on the relationship with other features\n",
    "personal_attitude_vars = ['cgwhypre', 'cgwhyadd', 'cgwhyrel', 'cgwhystr', 'cgwhygdf', 'cgwhycoo']\n",
    "for target_var in personal_attitude_vars:\n",
    "    # Split data into known and missing values\n",
    "    known_data = df_smoking[df_smoking[target_var].notnull()]\n",
    "    missing_data = df_smoking[df_smoking[target_var].isnull()]\n",
    "    \n",
    "    # Features (X) and target (y) for regression\n",
    "    X = known_data.drop(columns=personal_attitude_vars).fillna(known_data.median())\n",
    "    y = known_data[target_var]\n",
    "    \n",
    "    # Train regression model\n",
    "    model = LinearRegression().fit(X, y)\n",
    "    \n",
    "    # Predict missing values using the trained model\n",
    "    missing_X = missing_data.drop(columns=personal_attitude_vars).fillna(X.median())\n",
    "    df_smoking.loc[df_smoking[target_var].isnull(), target_var] = model.predict(missing_X)\n",
    "\n",
    "# Imputation for Exposure and Opinion Variables\n",
    "# This method models each variable as a function of the others, iteratively updating estimates\n",
    "exposure_opinion_columns = ['okcg1', 'okcgw', 'cgshin', 'cgshcar', 'cgwhohme']\n",
    "iter_imputer = IterativeImputer(max_iter=10, random_state=42)\n",
    "df_smoking[exposure_opinion_columns] = iter_imputer.fit_transform(df_smoking[exposure_opinion_columns])\n"
   ]
  },
  {
   "cell_type": "markdown",
   "id": "39f9be2b-5442-49f6-b10c-f0b933f4e04e",
   "metadata": {},
   "source": [
    "After imputation, missing values are verified to ensure the dataset is ready for analysis.\\\n",
    "Categorical variables are rounded to maintain discrete values."
   ]
  },
  {
   "cell_type": "code",
   "execution_count": null,
   "id": "ca250a13-4ca3-4fb2-b9cb-816a95b262bc",
   "metadata": {},
   "outputs": [],
   "source": [
    "\n",
    "# Ensuring categorical and binary variables remain discrete after imputation by rounding\n",
    "df_smoking = df_smoking.round()\n",
    "\n",
    "# Generate a heatmap to confirm the absence of missing values\n",
    "sns.heatmap(df_smoking.isna(), cbar=False, cmap='viridis');\n"
   ]
  },
  {
   "cell_type": "markdown",
   "id": "8437ef97-6ecc-4481-b22b-11640147a518",
   "metadata": {},
   "source": [
    "## **3. Exploratory Data Analysis (EDA)**"
   ]
  },
  {
   "cell_type": "markdown",
   "id": "b11df11f-ac0a-4967-b2b2-a0473a4c851a",
   "metadata": {},
   "source": [
    "#### **3.1 Univariate Analysis**"
   ]
  },
  {
   "cell_type": "code",
   "execution_count": null,
   "id": "cb865ab5-ef06-4633-ba15-ff16d66a5169",
   "metadata": {},
   "outputs": [],
   "source": [
    "# Map values for the 'sex' variable\n",
    "df_demographics = df_smoking[['sex', 'age1115', 'ethnicgp5']].copy()\n",
    "\n",
    "# Replace numerical values with labels for ethnicity\n",
    "ethnicity_map = {1.0: \"White\", 2.0: \"Mixed\", 3.0: \"Asian\", 4.0: \"Black\", 5.0: \"Other\"}\n",
    "df_demographics['ethnicgp5'] = df_demographics['ethnicgp5'].replace(ethnicity_map)\n",
    "\n",
    "# Replace numerical values with labels for gender\n",
    "gender_map = {1.0: \"Male\", 2.0: \"Female\"}\n",
    "df_demographics['sex'] = df_demographics['sex'].replace(gender_map)\n",
    "\n",
    "# Rename columns for clarity in plots\n",
    "df_demographics.rename(columns={'sex': 'Gender', 'age1115': 'Age Group', 'ethnicgp5': 'Ethnicity Group'}, inplace=True)\n",
    "\n",
    "# Plot distributions for demographics\n",
    "fig, axes = plt.subplots(1, 3, figsize=(18, 5))\n",
    "axes = axes.flatten()\n",
    "\n",
    "for i, column in enumerate(df_demographics.columns):\n",
    "    sns.countplot(data=df_demographics, x=column, ax=axes[i], color='#ffb3c6')\n",
    "    axes[i].set_title(f\"Distribution of {column}\")\n",
    "    axes[i].set_xlabel(column)\n",
    "    axes[i].set_ylabel(\"Count\")\n",
    "    axes[i].tick_params(axis='x', rotation=0)\n",
    "\n",
    "plt.tight_layout()\n",
    "plt.show();\n"
   ]
  },
  {
   "cell_type": "code",
   "execution_count": null,
   "id": "134d2951-35a4-45f1-8dc3-8ea023c4a6ab",
   "metadata": {},
   "outputs": [],
   "source": [
    "# Subset and map Family Attitude variables\n",
    "df_family = df_smoking[['cgpppar', 'cgppfrsa', 'cgfamn', 'cgfams']].copy()\n",
    "\n",
    "# Mapping values\n",
    "family_map = {0.0: \"No\", 1.0: \"Yes\"}\n",
    "df_family = df_family.replace(family_map)\n",
    "\n",
    "# Define variable titles\n",
    "family_vars = {\n",
    "    'cgpppar': 'Parents Smoking',\n",
    "    'cgppfrsa': 'Friend Smoking',\n",
    "}\n",
    "\n",
    "# Plot distributions\n",
    "fig, axes = plt.subplots(1,2, figsize=(12, 5))\n",
    "axes = axes.flatten()\n",
    "\n",
    "for i, (var, title) in enumerate(family_vars.items()):\n",
    "    sns.countplot(data=df_family, x=var, ax=axes[i], color='#ffb3c6')\n",
    "    axes[i].set_title(f\"Distribution of {title}\")\n",
    "    axes[i].set_xlabel(title)\n",
    "    axes[i].set_ylabel(\"Count\")\n",
    "    axes[i].tick_params(axis='x', rotation=0)\n",
    "\n",
    "plt.tight_layout()\n",
    "plt.show();\n"
   ]
  },
  {
   "cell_type": "code",
   "execution_count": null,
   "id": "2f1412ce-94bf-4880-b760-1704b76f21dc",
   "metadata": {},
   "outputs": [],
   "source": [
    "# Subset and map Exposure variables\n",
    "df_exposure = df_smoking[['cgshcar', 'cgwhohme']].copy()\n",
    "df_exposure['cgwhohme'] = df_exposure['cgwhohme'].replace({1.0:\"Yes\",2.0:\"No\"})\n",
    "# Mapping values\n",
    "exposure_map = {1.0: \"Always\",2.0:\"Often\",3.0:\"Sometimes\",4.0:\"Rarely\",5.0:\"Never\"}\n",
    "df_exposure = df_exposure.replace(exposure_map)\n",
    "\n",
    "# Define variable titles\n",
    "exposure_vars = {    \n",
    "    'cgshcar': 'Secondhand Smoke in Cars',\n",
    "    'cgwhohme': 'Smokers in the household'\n",
    "}\n",
    "\n",
    "# Plot distributions\n",
    "fig, axes = plt.subplots(1, 2, figsize=(12, 5))\n",
    "axes = axes.flatten()\n",
    "\n",
    "for i, (var, title) in enumerate(exposure_vars.items()):\n",
    "    sns.countplot(data=df_exposure, x=var, ax=axes[i], color='#ffb3c6')\n",
    "    axes[i].set_title(f\"Distribution of {title}\")\n",
    "    axes[i].set_xlabel(title)\n",
    "    axes[i].set_ylabel(\"Count\")\n",
    "    axes[i].tick_params(axis='x', rotation=0)\n",
    "\n",
    "plt.tight_layout()\n",
    "plt.show();\n",
    "\n"
   ]
  },
  {
   "cell_type": "markdown",
   "id": "4b2a0c6c-565d-421a-9fea-d707c3270e74",
   "metadata": {},
   "source": [
    "#### **3.2 Bivariate Analysis**"
   ]
  },
  {
   "cell_type": "markdown",
   "id": "242a92ae-ccdb-4344-8529-0839786427e2",
   "metadata": {},
   "source": [
    "##### **3.2.1 Youth Perceptions of Peer Smoking Reasons with Age**"
   ]
  },
  {
   "cell_type": "code",
   "execution_count": null,
   "id": "06eb646e-23db-4118-88f2-7a568fc0feeb",
   "metadata": {},
   "outputs": [],
   "source": [
    "belief_df = df_smoking[['age1115', 'cgwhypre', 'cgwhygdf', 'cgwhycoo', 'cgwhystr']].copy()\n",
    "# Rename belief columns for clarity\n",
    "belief_df.rename(columns={\n",
    "    'cgwhypre': 'Pressure',\n",
    "    'cgwhygdf': 'Good Feeling',\n",
    "    'cgwhycoo': 'Look Cool',\n",
    "    'cgwhystr': 'Cope with Stress'\n",
    "}, inplace=True)\n",
    "\n",
    "# Melt the dataset into long format\n",
    "belief_long = belief_df.melt(id_vars='age1115', var_name='Belief', value_name='Value')\n",
    "\n",
    "# Filter rows where the belief holds true (Value == 1)\n",
    "belief_long = belief_long[belief_long['Value'] == 1]\n",
    "\n",
    "# Calculate the proportion of each belief within each age group\n",
    "belief_proportion = belief_long.groupby(['age1115', 'Belief']).size().reset_index(name='Count')\n",
    "total_by_age = belief_long.groupby('age1115').size().reset_index(name='Total')\n",
    "belief_proportion = belief_proportion.merge(total_by_age, on='age1115')\n",
    "belief_proportion['Proportion'] = belief_proportion['Count'] / belief_proportion['Total']\n",
    "\n",
    "print(\"-\" *50)\n",
    "print(\"Proportions table\")\n",
    "print(belief_proportion)\n",
    "print(\"-\" *50)\n",
    "\n",
    "# Pivot the data for stacked bar plotting\n",
    "belief_pivot = belief_proportion.pivot(index='age1115', columns='Belief', values='Proportion').fillna(0)\n",
    "\n",
    "# Plot the stacked bar chart\n",
    "plt.figure(figsize=(8, 5))\n",
    "belief_pivot.plot(kind='bar', stacked=True, width=0.8, color=['#9ecae1', '#fdae61', '#fee08b', '#ffb3c6'], ax=plt.gca())\n",
    "plt.title('Proportion of Beliefs About Why Peers Smoke by Age Group')\n",
    "plt.xlabel('Age')\n",
    "plt.ylabel('Proportion of Respondents')\n",
    "plt.xticks(rotation=0)\n",
    "\n",
    "# Place the legend outside the plot on the right\n",
    "plt.legend(title='Belief About Why Peers Smoke', loc='center left', bbox_to_anchor=(1, 0.5))\n",
    "\n",
    "# Ensure layout is tight to avoid clipping\n",
    "plt.tight_layout()\n",
    "plt.show();\n"
   ]
  },
  {
   "cell_type": "markdown",
   "id": "15986cf7-4edb-499e-b22a-49c5ea042aca",
   "metadata": {},
   "source": [
    "This chart highlights how beliefs about why peers smoke vary by age group, with peer pressure consistently being the most cited reason across all ages. As age increases, the perception of smoking to \"look cool\" slightly declines, while beliefs about smoking for \"coping with stress\" and \"good feelings\" remain relatively stable."
   ]
  },
  {
   "cell_type": "markdown",
   "id": "59637fb8-5361-4ca5-95e5-04c7d3ff31db",
   "metadata": {},
   "source": [
    "##### **3.2.2 Proportion of Youth Who Have Smoked by Exposure to Secondhand Smoke**"
   ]
  },
  {
   "cell_type": "code",
   "execution_count": null,
   "id": "f2274cbe-6a6d-4167-8a7d-3a9136761582",
   "metadata": {},
   "outputs": [],
   "source": [
    "exposure_df = df_smoking[['cgshin', 'dcgevr']].copy()\n",
    "\n",
    "# Map codes to meaningful labels\n",
    "exposure_df['cgshin'] = exposure_df['cgshin'].map({\n",
    "    5: 'Never',\n",
    "    4: 'Rarely',\n",
    "    3: 'Sometimes',\n",
    "    2: 'Often',\n",
    "    1: 'Always'\n",
    "})\n",
    "exposure_df['dcgevr'] = exposure_df['dcgevr'].map({1: 'Yes', 2: 'No'})\n",
    "\n",
    "# Calculate proportions\n",
    "exposure_counts = exposure_df.groupby(['cgshin', 'dcgevr']).size().reset_index(name='Count')\n",
    "total_by_exposure = exposure_df.groupby('cgshin').size().reset_index(name='Total')\n",
    "exposure_proportion = exposure_counts.merge(total_by_exposure, on='cgshin')\n",
    "exposure_proportion['Proportion'] = exposure_proportion['Count'] / exposure_proportion['Total']\n",
    "print(\"-\" *50)\n",
    "print(\"Proportions table\")\n",
    "print(exposure_proportion)\n",
    "print(\"-\" *50)\n",
    "\n",
    "# Reorder the categories for exposure\n",
    "exposure_order = ['Never', 'Rarely', 'Sometimes', 'Often', 'Always']\n",
    "\n",
    "# Plot the proportional bar chart for exposure\n",
    "plt.figure(figsize=(8, 5))\n",
    "sns.barplot(data=exposure_proportion, x='cgshin', y='Proportion', hue='dcgevr', palette=['#ffb3c6', '#b3e6ff'], order=exposure_order)\n",
    "plt.title('Proportion of Youth Who Have Smoked by Exposure to Secondhand Smoke')\n",
    "plt.xlabel('Exposure to Secondhand Smoke')\n",
    "plt.ylabel('Proportion of Respondents')\n",
    "plt.legend(title='Has Ever Smoked')\n",
    "plt.xticks(rotation=0)\n",
    "plt.tight_layout()\n",
    "plt.show();"
   ]
  },
  {
   "cell_type": "markdown",
   "id": "70fc4b7e-3b8a-4702-b69f-c56535549e4b",
   "metadata": {},
   "source": [
    "This visualization demonstrates a strong positive relationship between exposure to secondhand smoke and the likelihood of having ever smoked. Respondents who reported \"always\" being exposed to secondhand smoke had the highest proportion of smokers, while those with no exposure were the least likely to smoke. This highlights the significant influence of secondhand smoke exposure as a risk factor for smoking behavior among youth."
   ]
  },
  {
   "cell_type": "markdown",
   "id": "7c3d1d11-a43b-4ce9-884f-d04151ee3a0d",
   "metadata": {},
   "source": [
    "##### **3.2.3 Peer Influences**"
   ]
  },
  {
   "cell_type": "code",
   "execution_count": null,
   "id": "ec64eaee-c9df-4239-9ba2-d66ce7c6daac",
   "metadata": {},
   "outputs": [],
   "source": [
    "peer_influence_df = df_smoking[['cgppfrsa', 'dcgevr']].copy()\n",
    "\n",
    "# Map codes to meaningful labels for the number of friends who smoke\n",
    "peer_influence_df['cgppfrsa'] = peer_influence_df['cgppfrsa'].map({\n",
    "    0: 'No Friends Smoke',\n",
    "    1: 'Some Friends Smoke',\n",
    "})\n",
    "peer_influence_df['dcgevr'] = peer_influence_df['dcgevr'].map({1: 'Yes', 2: 'No'})\n",
    "\n",
    "# Calculate proportions\n",
    "peer_counts = peer_influence_df.groupby(['cgppfrsa', 'dcgevr']).size().reset_index(name='Count')\n",
    "total_by_peer = peer_influence_df.groupby('cgppfrsa').size().reset_index(name='Total')\n",
    "peer_proportion = peer_counts.merge(total_by_peer, on='cgppfrsa')\n",
    "peer_proportion['Proportion'] = peer_proportion['Count'] / peer_proportion['Total']\n",
    "print(\"-\" *50)\n",
    "print(\"Proportions table\")\n",
    "print(peer_proportion)\n",
    "print(\"-\" *50)\n",
    "\n",
    "# Plot the proportional bar chart\n",
    "plt.figure(figsize=(8, 5))\n",
    "sns.barplot(data=peer_proportion, x='cgppfrsa', y='Proportion', hue='dcgevr', palette=['#ffb3c6', '#b3e6ff'])\n",
    "plt.title('Proportion of Youth Who Have Smoked by Peer Influence')\n",
    "plt.xlabel('Peer Smoking')\n",
    "plt.ylabel('Proportion of Respondents')\n",
    "plt.legend(title='Has Ever Smoked')\n",
    "plt.xticks(rotation=0)\n",
    "plt.tight_layout()\n",
    "plt.show();"
   ]
  },
  {
   "cell_type": "markdown",
   "id": "41a1a0d6-9716-455c-afee-6553fee4f1c0",
   "metadata": {},
   "source": [
    "This visualization highlights the influence of peer smoking behavior on youth smoking habits. Among respondents with friends who smoke, a significantly higher proportion reported having ever smoked compared to those whose friends do not smoke. This indicates a strong correlation between peer influence and smoking behavior, underscoring the social pressures and environmental factors that contribute to youth smoking."
   ]
  },
  {
   "cell_type": "markdown",
   "id": "5496d2f6-0612-4019-9739-f3afd34f0c97",
   "metadata": {},
   "source": [
    "##### **3.2.4 Education Efforts**"
   ]
  },
  {
   "cell_type": "code",
   "execution_count": null,
   "id": "48913c5e-f528-42e1-8361-0757a1730612",
   "metadata": {},
   "outputs": [],
   "source": [
    "# Create a new DataFrame for education's effect on smoking\n",
    "education_df = df_smoking[['einfsmk', 'dlssmk', 'dcgevr']].copy()\n",
    "\n",
    "# Map codes to meaningful labels\n",
    "education_df['einfsmk'] = education_df['einfsmk'].map({2.0: 'No Info Provided', 1.0: 'School provided Info'})\n",
    "education_df['dlssmk'] = education_df['dlssmk'].map({2.0: 'No Lessons', 1.0: 'Lessons Provided'})\n",
    "education_df['dcgevr'] = education_df['dcgevr'].map({1: 'Yes', 2: 'No'})\n",
    "\n",
    "# Melt the dataset for proportional analysis\n",
    "education_long = education_df.melt(id_vars='dcgevr', var_name='Education Variable', value_name='Response')\n",
    "\n",
    "# Calculate proportions\n",
    "education_counts = education_long.groupby(['Education Variable', 'Response', 'dcgevr']).size().reset_index(name='Count')\n",
    "total_by_edu = education_long.groupby(['Education Variable', 'Response']).size().reset_index(name='Total')\n",
    "education_proportion = education_counts.merge(total_by_edu, on=['Education Variable', 'Response'])\n",
    "education_proportion['Proportion'] = education_proportion['Count'] / education_proportion['Total']\n",
    "print(\"-\" *50)\n",
    "print(\"Proportions table\")\n",
    "print(education_proportion)\n",
    "print(\"-\" *50)\n",
    "\n",
    "# Plot the proportional bar chart\n",
    "plt.figure(figsize=(8, 5))\n",
    "sns.barplot(data=education_proportion, x='Response', y='Proportion', hue='dcgevr', palette=['#ffb3c6', '#b3e6ff'])\n",
    "plt.title('Proportion of Youth Who Have Smoked by Education Efforts')\n",
    "plt.xlabel('Education Efforts')\n",
    "plt.ylabel('Proportion of Respondents')\n",
    "plt.legend(title='Has Ever Smoked', loc='upper right')\n",
    "plt.xticks(rotation=0)\n",
    "plt.tight_layout()\n",
    "plt.show();\n"
   ]
  },
  {
   "cell_type": "markdown",
   "id": "4c7d2527-7822-4e67-a883-51333655adde",
   "metadata": {},
   "source": [
    "This visualization demonstrates the role of education efforts in influencing youth smoking behavior. Respondents who were provided with school lessons or information on smoking reported significantly lower proportions of having ever smoked compared to those who received no such education. This highlights the potential effectiveness of educational interventions in reducing youth smoking rates and emphasizes the need for consistent and comprehensive education programs targeting smoking prevention."
   ]
  },
  {
   "cell_type": "markdown",
   "id": "21d6c156-e516-44d8-ba36-9382384fe1d0",
   "metadata": {},
   "source": [
    "We further explore relationships between our variables and smoking behaviour:"
   ]
  },
  {
   "cell_type": "code",
   "execution_count": null,
   "id": "73b9acad-a6cb-436a-8321-b2690633adf5",
   "metadata": {},
   "outputs": [],
   "source": [
    "age_smoking = df_smoking.groupby('age1115')['dcgevr'].value_counts(normalize=True).unstack()\n",
    "age_smoking.columns = ['Yes', 'No'] \n",
    "print(\"-\" * 42)\n",
    "print(age_smoking)\n",
    "print(\"-\" * 42)"
   ]
  },
  {
   "cell_type": "code",
   "execution_count": null,
   "id": "3ee55af6-d63d-4ea4-9da3-721c1ec98286",
   "metadata": {},
   "outputs": [],
   "source": [
    "ethnic_smoking = df_smoking.groupby('ethnicgp5')['dcgevr'].value_counts(normalize=True).unstack()\n",
    "ethnic_smoking.columns = ['Yes', 'No']  \n",
    "print(\"-\" * 42)\n",
    "print(ethnic_smoking)\n",
    "print(\"-\" * 42)"
   ]
  },
  {
   "cell_type": "code",
   "execution_count": null,
   "id": "d596a7c7-9249-4e6a-b106-c901589ded06",
   "metadata": {},
   "outputs": [],
   "source": [
    "peer_smoking = df_smoking.groupby('cgppfrsa')['dcgevr'].value_counts(normalize=True).unstack()\n",
    "peer_smoking.columns = ['Yes', 'No']  \n",
    "print(\"-\" * 42)\n",
    "print(peer_smoking)\n",
    "print(\"-\" * 42)"
   ]
  },
  {
   "cell_type": "code",
   "execution_count": null,
   "id": "a6ddbc6c-4e4e-4a0b-b657-c3f208f0262b",
   "metadata": {},
   "outputs": [],
   "source": [
    "belief_vars = ['cgwhypre', 'cgwhyadd', 'cgwhyrel', 'cgwhystr']\n",
    "for var in belief_vars:\n",
    "    belief_smoking = df_smoking.groupby(var)['dcgevr'].value_counts(normalize=True).unstack()\n",
    "    belief_smoking.columns = ['Yes', 'No']  # Assuming 1=Yes, 2=No in dcgevr\n",
    "    print(f\"Smoking behavior based on {var}:\\n\", belief_smoking)\n"
   ]
  },
  {
   "cell_type": "markdown",
   "id": "0e46d34b-19c7-4d0b-8aac-213ce873b0a7",
   "metadata": {},
   "source": [
    "## **4. Feature Engineering**"
   ]
  },
  {
   "cell_type": "markdown",
   "id": "a13740c6-3607-4a14-bf85-d691f7c91173",
   "metadata": {},
   "source": [
    "#### **4.1 Composite Features**\n",
    "We create composite features by aggregating related variables to simplify the analysis and highlight key behavioral and environmental influences. These include family influence, social influence, and exposure scores."
   ]
  },
  {
   "cell_type": "code",
   "execution_count": null,
   "id": "5dcaaa4f-e6e2-401f-afeb-639de736c71d",
   "metadata": {},
   "outputs": [],
   "source": [
    "# Calculating the average of variables related to peer pressure\n",
    "df_smoking['peer_pressure_score'] = df_smoking[\n",
    "    ['cgwhypre', 'cgwhyadd', 'cgwhyrel', 'cgwhystr', 'cgwhygdf', 'cgwhycoo']\n",
    "].mean(axis=1)\n",
    "\n",
    "# Averaging variables indicating secondhand smoke exposure\n",
    "df_smoking['exposure_score'] = df_smoking[['cgshin', 'cgshcar', 'cgwhohme']].mean(axis=1)\n",
    "\n",
    "# Averaging family attitude variables to gauge family influence\n",
    "df_smoking['family_influence'] = df_smoking[['cgpppar', 'cgppfrsa', 'cgfamn', 'cgfams']].mean(axis=1)\n",
    "\n",
    "# Calculating attitude scores based on individual motivations for smoking\n",
    "df_smoking['attitude_score'] = df_smoking[['okcg1', 'okcgw']].mean(axis=1)"
   ]
  },
  {
   "cell_type": "markdown",
   "id": "0b68d2ab-99e0-4a7f-8e18-df4bbe02c1f0",
   "metadata": {},
   "source": [
    "#### **4.2 Binary Flags**"
   ]
  },
  {
   "cell_type": "code",
   "execution_count": null,
   "id": "cb085155-bd84-4a14-92d3-0a10c2de825c",
   "metadata": {},
   "outputs": [],
   "source": [
    "# Flag indicating if an individual smokes for stress relief\n",
    "df_smoking['smokes_for_stress'] = (df_smoking['cgwhystr'] > 0).astype(int)\n",
    "\n",
    "# Flag indicating if an individual smokes to relax\n",
    "df_smoking['smokes_to_relax'] = (df_smoking['cgwhygdf'] > 0).astype(int)"
   ]
  },
  {
   "cell_type": "markdown",
   "id": "b2e455dd-8c0e-4d0d-8b4d-d7b9f8ec964b",
   "metadata": {},
   "source": [
    "#### **4.3 Interaction Feature**\n",
    "Interaction features highlight relationships between variables, such as the interplay of gender and exposure. These features can improve predictive modeling by capturing nuanced patterns in the data (Zhao and Cen,2014)."
   ]
  },
  {
   "cell_type": "code",
   "execution_count": null,
   "id": "8a7d5686-94d6-428c-bf53-72ef5f0153f7",
   "metadata": {},
   "outputs": [],
   "source": [
    "# Interaction between gender and exposure score\n",
    "df_smoking['gender_exposure_interaction'] = df_smoking['sex'] * df_smoking['exposure_score']"
   ]
  },
  {
   "cell_type": "markdown",
   "id": "8f307b83-cbb5-4e26-9952-0d2e3c130802",
   "metadata": {},
   "source": [
    "#### **4.4 Encode Categorical Variables**\n",
    "Categorical variables are encoded into numerical representations"
   ]
  },
  {
   "cell_type": "code",
   "execution_count": null,
   "id": "1f851c7f-6a01-43c0-a45f-f2dddca1d213",
   "metadata": {},
   "outputs": [],
   "source": [
    "# One-hot encoding the 'ethnicgp5' column to represent categorical data numerically\n",
    "df_smoking = pd.get_dummies(df_smoking, columns=['ethnicgp5'], drop_first=True)"
   ]
  },
  {
   "cell_type": "markdown",
   "id": "b3479e93-37dd-4fde-b18c-e225157074f5",
   "metadata": {},
   "source": [
    "#### **4.5 Final Dataset Summary**\n",
    "This section provides an overview of the final dataset after data cleaning, feature engineering, and encoding. It ensures that the dataset is ready for predictive modeling"
   ]
  },
  {
   "cell_type": "code",
   "execution_count": null,
   "id": "5a104eb2-63b8-4af1-965e-90c9523e6562",
   "metadata": {},
   "outputs": [],
   "source": [
    "# Display the shape of the final dataset\n",
    "print(f\"The final dataset has {df_smoking.shape[0]} rows and {df_smoking.shape[1]} columns.\")\n",
    "\n",
    "\n",
    "# Preview the final dataset\n",
    "print(\"\\nPreview of the final dataset:\")\n",
    "display(df_smoking.head())\n"
   ]
  },
  {
   "cell_type": "markdown",
   "id": "17cacfcf-f964-43ac-8ca2-5d34e406cd64",
   "metadata": {},
   "source": [
    "## **5. Predictive Modelling**\n",
    "For this study, we selected machine learning models capable of handling both engineered features and imbalanced datasets effectively. The target variable, representing smoking behavior, exhibits class imbalance, where fewer students report engaging in smoking behavior. To address this, we chose models that offer mechanisms like class weighting or boosting to ensure accurate predictions for the minority class.\n",
    "\n",
    "These models are well-suited for capturing complex relationships and interactions within the dataset, such as the effects of family influence, peer pressure, and demographic factors.\n",
    "\n",
    "Below, we provide a detailed justification for each model."
   ]
  },
  {
   "cell_type": "markdown",
   "id": "2becb851-9641-409e-b96f-59853976cb35",
   "metadata": {},
   "source": [
    "#### **5.1 Model Selection**"
   ]
  },
  {
   "cell_type": "markdown",
   "id": "b7b4caf9-1f07-40ad-b08d-1708a7b636fd",
   "metadata": {},
   "source": [
    "**LightGBM** (Light Gradient Boosting Machine) is an efficient gradient-boosting algorithm designed for large datasets and high-dimensional data (Analytics Vidhya, 2021). It is particularly effective for datasets with class imbalances, as it includes the class_weight parameter to penalize misclassification of the minority class."
   ]
  },
  {
   "cell_type": "markdown",
   "id": "02831fce-1b39-400a-b842-fed9beb97d40",
   "metadata": {},
   "source": [
    "**Random Fores**t is a learning method that builds multiple decision trees and aggregates their outputs to improve accuracy and robustness (IBM, 2023). It is less prone to overfitting compared to individual decision trees, making it a reliable choice for datasets with complex datasets"
   ]
  },
  {
   "cell_type": "markdown",
   "id": "c475abfd-5993-4ee2-b9b0-26265266d415",
   "metadata": {},
   "source": [
    "**XGBoost** (Extreme Gradient Boosting) is a high-performance that models complex relationships effectively. It works well with imbalanced datasets by using the scale_pos_weight parameter to balance the contribution of the minority class during training (NVIDIA Data Science Glossary, n.d.)."
   ]
  },
  {
   "cell_type": "markdown",
   "id": "c3b1574b-acd5-4223-ae58-3061c8af9732",
   "metadata": {},
   "source": [
    "#### **5.2 Model Training and Evaluation**\n",
    "We preprocess the data by scaling the features using `StandardScaler`, split the dataset into training and testing sets, and train each model using the training set. \n",
    "\n",
    "Performance metrics (Accuracy, Precision, Recall, F1-Score, ROC-AUC) are calculated to evaluate model performance.\n"
   ]
  },
  {
   "cell_type": "code",
   "execution_count": null,
   "id": "438b9364-a404-44b7-bcf0-2166b55d19e2",
   "metadata": {},
   "outputs": [],
   "source": [
    "# Define features and target variable\n",
    "\n",
    "ml_cols = [\n",
    "    'family_influence',\n",
    "    'peer_pressure_score',     # Engineered feature\n",
    "    'attitude_score',          # Engineered feature\n",
    "    'exposure_score',          # Engineered feature\n",
    "    'smokes_for_stress',       # Binary flag\n",
    "    'smokes_to_relax',         # Binary flag\n",
    "    'gender_exposure_interaction',  # Interaction term\n",
    "    'sex',                     # Original feature\n",
    "    'age1115',                 # Original feature\n",
    "    'ethnicgp5_2.0', 'ethnicgp5_3.0', 'ethnicgp5_4.0', 'ethnicgp5_5.0'\n",
    "]\n",
    "\n",
    "target_col = 'dcgevr'\n",
    "\n",
    "# Separate features and target variable\n",
    "X = df_smoking[ml_cols]\n",
    "y = df_smoking[target_col]\n",
    "\n",
    "# Map target labels to 0 and 1 if needed\n",
    "if y.min() > 0:  \n",
    "    y = y.replace({1.0: 0, 2.0: 1})\n"
   ]
  },
  {
   "cell_type": "code",
   "execution_count": null,
   "id": "00f271d6-58a7-414d-b167-470cd1ca12c7",
   "metadata": {},
   "outputs": [],
   "source": [
    "# Scale features\n",
    "scaler = StandardScaler()\n",
    "X_scaled = scaler.fit_transform(X)"
   ]
  },
  {
   "cell_type": "code",
   "execution_count": null,
   "id": "f8fd1569-86a1-424d-a122-e2952692932a",
   "metadata": {},
   "outputs": [],
   "source": [
    "# Split the dataset\n",
    "X_train, X_test, y_train, y_test = train_test_split(\n",
    "    X_scaled, y, test_size=0.3, stratify=y, random_state=42\n",
    ")"
   ]
  },
  {
   "cell_type": "code",
   "execution_count": null,
   "id": "55674d39-9ef7-4a8c-a479-3929936c5e23",
   "metadata": {},
   "outputs": [],
   "source": [
    "# Define models\n",
    "class_counts = y_train.value_counts()\n",
    "majority_class = class_counts.index[0]\n",
    "minority_class = class_counts.index[1]\n",
    "\n",
    "models = {\n",
    "    \"LightGBM\": LGBMClassifier(\n",
    "        class_weight='balanced', learning_rate=0.1, n_estimators=100, random_state=42\n",
    "    ),\n",
    "    \"Random Forest\": RandomForestClassifier(\n",
    "        class_weight='balanced', n_estimators=100, random_state=42\n",
    "    ),\n",
    "    \"XGBoost\": XGBClassifier(\n",
    "        scale_pos_weight=class_counts[majority_class] / class_counts[minority_class],\n",
    "        eval_metric='logloss', random_state=42\n",
    "    )\n",
    "}\n"
   ]
  },
  {
   "cell_type": "code",
   "execution_count": null,
   "id": "d7fb1ef2-079d-4825-8b3f-bc9212606813",
   "metadata": {},
   "outputs": [],
   "source": [
    "# Train models and evaluate\n",
    "results = []\n",
    "\n",
    "for name, model in models.items():\n",
    "    # Train the model\n",
    "    model.fit(X_train, y_train)\n",
    "    \n",
    "    # Make predictions\n",
    "    y_pred = model.predict(X_test)\n",
    "    y_pred_proba = model.predict_proba(X_test)[:, 1]\n",
    "    \n",
    "    # Evaluate metrics\n",
    "    accuracy = accuracy_score(y_test, y_pred)\n",
    "    precision = precision_score(y_test, y_pred)\n",
    "    recall = recall_score(y_test, y_pred)\n",
    "    f1 = f1_score(y_test, y_pred)\n",
    "    roc_auc = roc_auc_score(y_test, y_pred_proba)\n",
    "    \n",
    "    # Store results\n",
    "    results.append({\n",
    "        \"Model\": name,\n",
    "        \"Accuracy\": accuracy,\n",
    "        \"Precision\": precision,\n",
    "        \"Recall\": recall,\n",
    "        \"F1-Score\": f1,\n",
    "        \"ROC-AUC\": roc_auc\n",
    "    })"
   ]
  },
  {
   "cell_type": "markdown",
   "id": "e4b70dbd-8b25-417f-9f55-192b8155268f",
   "metadata": {},
   "source": [
    "#### **5.3 Model Comparison**\n",
    "The results of the models are compared using key metrics:\n",
    "- **Accuracy**: Overall correctness of the predictions.\n",
    "- **Precision**: Proportion of correctly identified positive cases.\n",
    "- **Recall**: Ability to capture all positive cases.\n",
    "- **F1-Score**: Harmonic mean of Precision and Recall.\n",
    "- **ROC-AUC**: Model's ability to discriminate between positive and negative cases.\n",
    "\n",
    "The table below summarizes the performance metrics for each model:\n"
   ]
  },
  {
   "cell_type": "code",
   "execution_count": null,
   "id": "1afb5b19-31cc-456b-b108-61a14bda22af",
   "metadata": {},
   "outputs": [],
   "source": [
    "# Display results in a DataFrame\n",
    "comparison_df = pd.DataFrame(results)\n",
    "print(comparison_df)"
   ]
  },
  {
   "cell_type": "markdown",
   "id": "9dade49e-063e-4518-a0e4-11236f92a81f",
   "metadata": {},
   "source": [
    "Based on the evaluation metrics, XGBoost emerged as the strongest model due to its exceptional recall (0.9921) and F1-score (0.9288), which highlight its effectiveness in identifying smoking behaviors and balancing precision with recall. Random Forest followed with strong overall performance, particularly in accuracy (0.8127) and precision (0.9234), indicating its robustness for general predictions. LightGBM, while achieving a respectable accuracy (0.7467), demonstrated slightly lower recall, suggesting it may be less effective in identifying all smoking cases. Each model leveraged the dataset’s features differently, but XGBoost’s ability to handle imbalances and complex interactions gave it a clear edge."
   ]
  },
  {
   "cell_type": "code",
   "execution_count": null,
   "id": "d2f34ee4-a11a-4ea8-a0c2-7c46fa3d9d9f",
   "metadata": {},
   "outputs": [],
   "source": [
    "# Feature Importance for XGBoost\n",
    "xgb_model = models[\"XGBoost\"]\n",
    "feature_importances = xgb_model.feature_importances_\n",
    "features = ml_cols\n",
    "\n",
    "# Create a DataFrame for feature importances\n",
    "feature_imp_df = pd.DataFrame({'Feature': features, 'Importance': feature_importances})\n",
    "feature_imp_df = feature_imp_df.sort_values(by='Importance', ascending=True)\n",
    "\n",
    "# Plot\n",
    "plt.figure(figsize=(10, 6))\n",
    "plt.barh(feature_imp_df['Feature'], feature_imp_df['Importance'], color='#9ecae1')\n",
    "plt.xlabel('Importance')\n",
    "plt.title('XGBoost Feature Importance')\n",
    "plt.show();\n"
   ]
  },
  {
   "cell_type": "markdown",
   "id": "2dfc7055-d802-4ee5-8f7e-690efbd8bd77",
   "metadata": {},
   "source": [
    "The XGBoost model highlights **attitude_score**, **peer_pressure_score**, and **family_influence** as the top predictors for smoking behavior. These features underscore the significant impact of social and psychological factors. Such insights can guide interventions targeting these specific areas."
   ]
  },
  {
   "cell_type": "code",
   "execution_count": null,
   "id": "0027e48a-e3cf-464d-9d26-17422e79d2b2",
   "metadata": {},
   "outputs": [],
   "source": [
    "# Precision-Recall Curve\n",
    "y_pred_proba = xgb_model.predict_proba(X_test)[:, 1]\n",
    "precision, recall, thresholds = precision_recall_curve(y_test, y_pred_proba)\n",
    "\n",
    "plt.figure(figsize=(10, 6))\n",
    "plt.plot(recall, precision, marker='.')\n",
    "plt.title('Precision-Recall Curve (XGBoost)')\n",
    "plt.xlabel('Recall')\n",
    "plt.ylabel('Precision')\n",
    "plt.show();"
   ]
  },
  {
   "cell_type": "markdown",
   "id": "a32787fc-ac65-4df2-a2e5-8fdae8032299",
   "metadata": {},
   "source": [
    "The curve demonstrates the XGBoost model's strength in maintaining high precision while covering a wide range of recall values. This balance is critical for identifying smoking behaviors effectively without excessive false positives."
   ]
  },
  {
   "cell_type": "code",
   "execution_count": null,
   "id": "72a42b12-9bf6-4f82-a22e-66059ce9109f",
   "metadata": {},
   "outputs": [],
   "source": [
    "# Confusion Matrix\n",
    "y_pred = xgb_model.predict(X_test)\n",
    "cm = confusion_matrix(y_test, y_pred)\n",
    "\n",
    "plt.figure(figsize=(8, 6))\n",
    "sns.heatmap(cm, annot=True, fmt='d', cmap='Blues', xticklabels=['No', 'Yes'], yticklabels=['No', 'Yes'])\n",
    "plt.xlabel('Predicted')\n",
    "plt.ylabel('Actual')\n",
    "plt.title('Confusion Matrix (XGBoost)')\n",
    "plt.show();"
   ]
  },
  {
   "cell_type": "markdown",
   "id": "b15a35fd-8e0d-4af3-956c-98c56aeded59",
   "metadata": {},
   "source": [
    "The confusion matrix reveals strong performance, with a high number of true positives (correctly predicted smokers) compared to a minimal number of false negatives. This suggests the model is reliable in detecting smoking behavior while maintaining minimal errors in prediction."
   ]
  },
  {
   "cell_type": "markdown",
   "id": "1c23d027-11e0-417d-bd57-3173cfe71a37",
   "metadata": {},
   "source": [
    "## **6. Findings and Limitations**\n"
   ]
  },
  {
   "cell_type": "markdown",
   "id": "152b8607-776b-47d3-8753-5ed4820f79ce",
   "metadata": {},
   "source": [
    "#### **6.1 Key Findings**\n",
    "The findings below provide valuable insights into the factors influencing youth smoking behavior, including demographic, social, and environmental variables. They underline the importance of targeted education, family involvement, and peer influence mitigation in reducing smoking prevalence."
   ]
  },
  {
   "cell_type": "markdown",
   "id": "d59afc76-a002-4306-b5ec-4b9d49af0311",
   "metadata": {},
   "source": [
    "- Smoking prevalence increases significantly with age among respondents. At age 11, only 1.9% of respondents reported smoking, but by age 15, this rises to 26.2%. This highlights adolescence as a critical period for smoking prevention efforts.\n",
    "  \n",
    "- Among respondents whose friends do not smoke, only 10.4% report smoking. This proportion rises sharply to 32.4% for respondents with friends who smoke. This finding underscores the significant role of social influence and peer pressure in smoking initiation.\n",
    "\n",
    "- Exposure to secondhand smoke in households and cars is associated with higher smoking prevalence. For instance, 32.2% of respondents exposed to smoke \"Always\" in households reported smoking, compared to only 5.3% among those \"Never\" exposed. These results suggest that secondhand exposure may normalize smoking behavior within families.\n",
    "\n",
    "- Only 12.1% of respondents who received smoking lessons in school reported smoking, while 17.2% of those with \"No information provided\" reported smoking. Similarly, schools providing smoking-related information reduced smoking prevalence to 12.2%.\n",
    "\n",
    "- Respondents who believe peers smoke to \"relax\" or \"cope with stress\" are significantly more likely to smoke themselves (24.5% and 15.5%, respectively) compared to those who do not hold these beliefs (4.2% and 4.8%, respectively).\n",
    "\n",
    "- Among the models tested, XGBoost emerged as the most effective, achieving the highest recall (99.2%) and F1-Score (92.9%) with a strong accuracy (87.0%). This model effectively identified smoking behavior while maintaining a balance between false positives and negatives.\n",
    "\n",
    "  \n",
    "- Feature importance analysis revealed that attitude scores and peer pressure scores were the most significant predictors, emphasizing the psychological and social dimensions of smoking.\n"
   ]
  },
  {
   "cell_type": "markdown",
   "id": "efcb6fa7-9b4b-4052-9d20-a799b2633b3a",
   "metadata": {},
   "source": [
    "#### **6.2 Challenges and Limitations**\n",
    "During our analysis, several limitations and challenges in the dataset became apparent. While we made efforts to address some issues, such as class imbalances and missing data, others required more in-depth exploration or alternative approaches that were beyond the scope of this project. Due to time constraints and the complexity of some factors, these limitations remain partially unresolved. These limitations are shown below:"
   ]
  },
  {
   "cell_type": "markdown",
   "id": "085df3bf-95ac-436e-b13e-4c937f197fac",
   "metadata": {},
   "source": [
    "- Imbalanced Data: The dataset exhibited significant class imbalances which requires advanced techniques such as resampling to mitigate their impact during predictive modeling.\n",
    "  \n",
    "- Many variables contained missing data, While imputation efforts aimed to maintain data integrity, the process may have introduced biases or inaccuracies.\n",
    "\n",
    "- Some questions were specific to smokers or non-smokers. It created challenges in drawing consistent comparisons and limiting the generalization of some variables to the entire population.\n",
    "\n",
    "- Because the survey is self reported, Responses might be biased. Participants may have misrepresented or underreported certain behaviors, affecting data reliability."
   ]
  },
  {
   "cell_type": "markdown",
   "id": "b8ebb485-3ddf-4747-afff-c7a59113e53a",
   "metadata": {},
   "source": [
    "#### **References**\n",
    "Analytics Vidhya. (2021). LightGBM in Python | Complete guide on how to Use LightGBM in Python. [online] Available at: https://www.analyticsvidhya.com/blog/2021/08/complete-guide-on-how-to-use-lightgbm-in-python/.\n",
    "\n",
    "Bock, T. (2018). What is a Correlation Matrix? | Displayr. [online] Displayr. Available at: https://www.displayr.com/what-is-a-correlation-matrix/.\n",
    "\n",
    "IBM (2023). What Is Random Forest? | IBM. [online] www.ibm.com. Available at: https://www.ibm.com/topics/random-forest.\n",
    "\n",
    "NDRS. (n.d.). Smoking, Drinking and Drug Use among Young People in England, 2021. [online] Available at: https://digital.nhs.uk/data-and-information/publications/statistical/smoking-drinking-and-drug-use-among-young-people-in-england/2021#data-sets.\n",
    "\n",
    "NVIDIA Data Science Glossary. (n.d.). What is XGBoost? [online] Available at: https://www.nvidia.com/en-gb/glossary/xgboost/.\n",
    "\n",
    "Zhao, Y. and Cen, Y. (). Data mining applications with R. Waltham, MA: Academic Press."
   ]
  },
  {
   "cell_type": "markdown",
   "id": "2b0ca116-a768-4a9c-9ff9-1938b7a7561b",
   "metadata": {},
   "source": [
    "#### **GenAI**"
   ]
  },
  {
   "cell_type": "markdown",
   "id": "a2a4ba00-e6f0-4960-b03e-3f536ab37ce8",
   "metadata": {},
   "source": [
    "![alt text2](GenAI-components.jpg)"
   ]
  },
  {
   "cell_type": "markdown",
   "id": "fcdace2f-5c9e-4e47-be67-09c397d4fb35",
   "metadata": {},
   "source": [
    "#### **Trello**"
   ]
  },
  {
   "cell_type": "markdown",
   "id": "73c60e37-1346-4139-8d35-6e1b35356fc7",
   "metadata": {},
   "source": [
    "Week 1"
   ]
  },
  {
   "cell_type": "markdown",
   "id": "54b8b5cc-0b19-4717-a1f9-b25e129b3006",
   "metadata": {},
   "source": [
    "![](./Trello/1.jpeg)"
   ]
  },
  {
   "cell_type": "markdown",
   "id": "3912d553-df1c-48fd-86d2-fd9705703056",
   "metadata": {},
   "source": [
    "Week 2"
   ]
  },
  {
   "cell_type": "markdown",
   "id": "268eb17d-807a-43dc-a4e9-bfc308a07f88",
   "metadata": {},
   "source": [
    "![](./Trello/2.jpeg)"
   ]
  },
  {
   "cell_type": "markdown",
   "id": "e7a93433-09e5-4a4d-b87c-5cb56fce6505",
   "metadata": {},
   "source": [
    "Week 3"
   ]
  },
  {
   "cell_type": "markdown",
   "id": "7319d226-6ef8-4802-a452-fa084e47ca04",
   "metadata": {},
   "source": [
    "![](./Trello/3.jpeg)"
   ]
  },
  {
   "cell_type": "markdown",
   "id": "f02b6a13-98db-4dda-8712-46084bcfb1f5",
   "metadata": {},
   "source": [
    "Week 4"
   ]
  },
  {
   "cell_type": "markdown",
   "id": "c3303381-4f5e-4a61-afab-467aa1a96bca",
   "metadata": {},
   "source": [
    "![](./Trello/4.jpeg)"
   ]
  },
  {
   "cell_type": "markdown",
   "id": "a48ffe35-f3d9-4def-a25c-7f5a73f6b448",
   "metadata": {},
   "source": [
    "Week 5"
   ]
  },
  {
   "cell_type": "markdown",
   "id": "c3e19333-630c-4f30-b4d0-ea0222dcc9d6",
   "metadata": {},
   "source": [
    "![](./Trello/5.jpeg)"
   ]
  },
  {
   "cell_type": "markdown",
   "id": "5fa41caa-cf50-4e1e-b0ef-9fa263bc45d6",
   "metadata": {},
   "source": [
    "Week 6"
   ]
  },
  {
   "cell_type": "markdown",
   "id": "5fae529c-aed4-430c-b54e-432d84afc5db",
   "metadata": {},
   "source": [
    "![](./Trello/6.jpeg)"
   ]
  },
  {
   "cell_type": "markdown",
   "id": "00930e7e-c826-43c3-ab5b-b560e7f1e107",
   "metadata": {},
   "source": [
    "Week 7"
   ]
  },
  {
   "cell_type": "markdown",
   "id": "70b5ca98-067a-40a6-9650-12c6bc3f9648",
   "metadata": {},
   "source": [
    "![](7.jpg)"
   ]
  }
 ],
 "metadata": {
  "kernelspec": {
   "display_name": "Python 3 (ipykernel)",
   "language": "python",
   "name": "python3"
  },
  "language_info": {
   "codemirror_mode": {
    "name": "ipython",
    "version": 3
   },
   "file_extension": ".py",
   "mimetype": "text/x-python",
   "name": "python",
   "nbconvert_exporter": "python",
   "pygments_lexer": "ipython3",
   "version": "3.12.8"
  }
 },
 "nbformat": 4,
 "nbformat_minor": 5
}
